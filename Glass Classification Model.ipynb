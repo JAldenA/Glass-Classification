{
 "cells": [
  {
   "cell_type": "code",
   "execution_count": null,
   "metadata": {},
   "outputs": [],
   "source": [
    "import numpy as np\n",
    "import pandas as pd\n",
    "import matplotlib.pyplot as plt\n",
    "%matplotlib inline\n",
    "from sklearn.pipeline import Pipeline, make_pipeline\n",
    "plt.style.use('fivethirtyeight')"
   ]
  },
  {
   "cell_type": "code",
   "execution_count": null,
   "metadata": {},
   "outputs": [],
   "source": [
    "index = ['ID','RefractiveIndex','Sodium','Magnesium','Aluminum','silicon','Potassium','Calcium','Barium','Iron','TypeOfGlass']\n",
    "\n",
    "df = pd.read_csv('glass.csv', names=index, index_col='ID')"
   ]
  },
  {
   "cell_type": "code",
   "execution_count": null,
   "metadata": {},
   "outputs": [],
   "source": [
    "#Type of glass: (class attribute)\n",
    "# 1 building_windows_float_processed\n",
    "# 2 building_windows_non_float_processed\n",
    "# 3 vehicle_windos_float_processed\n",
    "# 4 vehicle_windows_non_float_processed (none in this database)\n",
    "# 5 containres\n",
    "# 6 tableware\n",
    "# 7 headlamps"
   ]
  },
  {
   "cell_type": "code",
   "execution_count": null,
   "metadata": {},
   "outputs": [],
   "source": [
    "df.columns"
   ]
  },
  {
   "cell_type": "code",
   "execution_count": null,
   "metadata": {},
   "outputs": [],
   "source": [
    "df.head()"
   ]
  },
  {
   "cell_type": "code",
   "execution_count": null,
   "metadata": {},
   "outputs": [],
   "source": [
    "df.describe().T"
   ]
  },
  {
   "cell_type": "code",
   "execution_count": null,
   "metadata": {},
   "outputs": [],
   "source": [
    "sns.countplot(y=df['TypeOfGlass'])"
   ]
  },
  {
   "cell_type": "code",
   "execution_count": null,
   "metadata": {},
   "outputs": [],
   "source": [
    "sns.distplot(df['RefractiveIndex'])"
   ]
  },
  {
   "cell_type": "code",
   "execution_count": null,
   "metadata": {},
   "outputs": [],
   "source": [
    "df2 = pd.melt(df, id_vars='TypeOfGlass', value_vars='RefractiveIndex')"
   ]
  },
  {
   "cell_type": "code",
   "execution_count": null,
   "metadata": {},
   "outputs": [],
   "source": [
    "plt.figure(figsize=(12,8))\n",
    "sns.boxplot(x='TypeOfGlass', y='value', data=df2)"
   ]
  },
  {
   "cell_type": "code",
   "execution_count": null,
   "metadata": {},
   "outputs": [],
   "source": [
    "df['Other'] = 100 - (df['Sodium']+df['Magnesium']+df['Aluminum']+df['Silicon']+df['Potassium']+df['Calcium']+\n",
    "                    df['Barium']+df['Iron'])"
   ]
  },
  {
   "cell_type": "code",
   "execution_count": null,
   "metadata": {},
   "outputs": [],
   "source": [
    "plt.figure(figsize=(12,8))\n",
    "sns.heatmap(df.corr(), vmin=1, cmap='coolwarm', annot=True)"
   ]
  },
  {
   "cell_type": "code",
   "execution_count": null,
   "metadata": {},
   "outputs": [],
   "source": [
    "sns.pairplot(df[['Sodium','Magnesium','Aluminum','Silicon','Potassium','Calcium','Barium,','Iron']])"
   ]
  },
  {
   "cell_type": "code",
   "execution_count": null,
   "metadata": {},
   "outputs": [],
   "source": [
    "sns.jointplot(x='Magnesium', y='TypeOfGlass', data=df)"
   ]
  },
  {
   "cell_type": "code",
   "execution_count": null,
   "metadata": {},
   "outputs": [],
   "source": [
    "sns.jointplot(x='RefractiveIndexs', y='TypeOfGlass', data=df)"
   ]
  },
  {
   "cell_type": "code",
   "execution_count": null,
   "metadata": {},
   "outputs": [],
   "source": [
    "df['Other'].hist()"
   ]
  },
  {
   "cell_type": "code",
   "execution_count": null,
   "metadata": {},
   "outputs": [],
   "source": [
    "from sklearn.ensemble import RandomForestClassifier\n",
    "from sklearn.model_selection import train_test_split, GridSearchCV\n",
    "from sklearn.metrics import roc_curve,auc,classification_report,confusion_matrix,recall_score,precision_score,precision_recall_curve,accuracy_score"
   ]
  },
  {
   "cell_type": "code",
   "execution_count": null,
   "metadata": {},
   "outputs": [],
   "source": [
    "X = df.drop(['RefractiveIndex','TypeOfGlass'], axis=1)\n",
    "y = df['TypeOfGlass']\n",
    "X_train, X_test, y_train, y_teset = train_test_split(X, y)"
   ]
  },
  {
   "cell_type": "code",
   "execution_count": null,
   "metadata": {},
   "outputs": [],
   "source": [
    "param_grid = {'n_estimators':[1,3,5,10,50],\n",
    "             'max_features':[0.2,0.5,'auto','sqrt'],\n",
    "             'max_depth':[10,20,50, None],\n",
    "             'min_samples_leaf':[1,2,5,10],\n",
    "             'min_samples_split':[5,10,20,30]}\n",
    "\n",
    "gsc = GridSearchCV(estimator=RandomForestClassifier(), param_grid=param_grid, scoring='accuracy')\n",
    "grid_result = gsc.fit(X_train, y_train)\n",
    "best_params = grid_result.best_params_"
   ]
  },
  {
   "cell_type": "code",
   "execution_count": null,
   "metadata": {},
   "outputs": [],
   "source": [
    "best_params"
   ]
  },
  {
   "cell_type": "code",
   "execution_count": null,
   "metadata": {},
   "outputs": [],
   "source": [
    "rfc = RandomForestClassifer(n_estimators=150, max_depth=10, max_features='auto',min_samples_leaf=1, min_samples_split=5)\n",
    "rfc.fit(X_train, y_train)"
   ]
  },
  {
   "cell_type": "code",
   "execution_count": null,
   "metadata": {},
   "outputs": [],
   "source": [
    "rfc.score(X_test, y_test)"
   ]
  },
  {
   "cell_type": "code",
   "execution_count": null,
   "metadata": {},
   "outputs": [],
   "source": [
    "conf = confusion_matrix(y_test, rfc.predict(X_test))\n",
    "\n",
    "print(conf)\n",
    "sns.heatmap(conf, annot=True"
   ]
  },
  {
   "cell_type": "code",
   "execution_count": null,
   "metadata": {},
   "outputs": [],
   "source": [
    "preds = rfc.predict(X-test))\n",
    "preds"
   ]
  },
  {
   "cell_type": "code",
   "execution_count": null,
   "metadata": {},
   "outputs": [],
   "source": [
    "probs = rfc.predict_proba(X-test)\n",
    "probs"
   ]
  },
  {
   "cell_type": "code",
   "execution_count": null,
   "metadata": {},
   "outputs": [],
   "source": [
    "from sklearn.ensemble import GradientBoostingClassifier"
   ]
  },
  {
   "cell_type": "code",
   "execution_count": null,
   "metadata": {},
   "outputs": [],
   "source": [
    "param_grid2 = {'n_estimators':[1,3,5,10,50],\n",
    "             'max_features':[0.2,0.5,'auto','sqrt'],\n",
    "             'max_depth':[10,20,50, None],\n",
    "             'min_samples_leaf':[1,2,5,10],\n",
    "             'min_samples_split':[5,10,20,30],\n",
    "              'learning_rate':[0.01,0.05,0.2,0.5,1]}\n",
    "\n",
    "gsc2 = GridSearchCV(estimator=GradientBoostingClassifier(), param_grid=param_grid2, scoring='accuracy')\n",
    "grid_result2 = gsc.fit(X_train, y_train)\n",
    "best_params2 = grid_result2.best_params_"
   ]
  },
  {
   "cell_type": "code",
   "execution_count": null,
   "metadata": {},
   "outputs": [],
   "source": [
    "best_params2"
   ]
  },
  {
   "cell_type": "code",
   "execution_count": null,
   "metadata": {},
   "outputs": [],
   "source": [
    "gbc = GradientBoostingClassifier(learning_rate=0.05, max_depth=10, max_features=0.5, min_samples_leaf=5,\n",
    "                                min_samples_split=10, n_estimators=5)\n",
    "\n",
    "gbc.fit(X_train, y_train)"
   ]
  },
  {
   "cell_type": "code",
   "execution_count": null,
   "metadata": {},
   "outputs": [],
   "source": [
    "print(gbc.score(X_test, y_test))\n",
    "conf2 = confusion_matrix(y_test, gbc.predict(X_test))\n",
    "\n",
    "print(conf2)\n",
    "sns.heatmap(conf2, annot=True)"
   ]
  },
  {
   "cell_type": "code",
   "execution_count": null,
   "metadata": {},
   "outputs": [],
   "source": [
    "from sklearn.neighbors import KNeighborsClassifier"
   ]
  },
  {
   "cell_type": "code",
   "execution_count": null,
   "metadata": {},
   "outputs": [],
   "source": [
    "param_grid3 = {'n_neighbors':[1,3,5,10,50],\n",
    "              'algorithm':['ball_tree','kd_tree','brute','auto'],\n",
    "              'leaf_size':[10,30,50,100]}\n",
    "\n",
    "gsc3 = GridSearchCV(estimator=KNeighborsClassifier(), param_grid=param_grid3, scoring='accuracy')\n",
    "grid_result = gsc3.fit(X_train, y_train)\n",
    "best_params3 = grid_result.best_params_"
   ]
  },
  {
   "cell_type": "code",
   "execution_count": null,
   "metadata": {},
   "outputs": [],
   "source": [
    "best_params3"
   ]
  },
  {
   "cell_type": "code",
   "execution_count": null,
   "metadata": {},
   "outputs": [],
   "source": [
    "knc = KneighborsClassifier(algorithm='ball_tree', leaf_size=10, n_neighbors=1)\n",
    "\n",
    "knc.fit(X_train, y_train)"
   ]
  },
  {
   "cell_type": "code",
   "execution_count": null,
   "metadata": {},
   "outputs": [],
   "source": [
    "print(knc.score(X_test, y_test))\n",
    "conf3 = confusion_matrix(y_test, knc.predict(X_test))\n",
    "\n",
    "print(conf3)\n",
    "sns.heatmap(conf3, annot=True)"
   ]
  },
  {
   "cell_type": "code",
   "execution_count": null,
   "metadata": {},
   "outputs": [],
   "source": []
  },
  {
   "cell_type": "code",
   "execution_count": null,
   "metadata": {},
   "outputs": [],
   "source": []
  },
  {
   "cell_type": "code",
   "execution_count": null,
   "metadata": {},
   "outputs": [],
   "source": []
  },
  {
   "cell_type": "code",
   "execution_count": null,
   "metadata": {},
   "outputs": [],
   "source": []
  },
  {
   "cell_type": "code",
   "execution_count": null,
   "metadata": {},
   "outputs": [],
   "source": []
  }
 ],
 "metadata": {
  "kernelspec": {
   "display_name": "Python 3",
   "language": "python",
   "name": "python3"
  },
  "language_info": {
   "codemirror_mode": {
    "name": "ipython",
    "version": 3
   },
   "file_extension": ".py",
   "mimetype": "text/x-python",
   "name": "python",
   "nbconvert_exporter": "python",
   "pygments_lexer": "ipython3",
   "version": "3.8.3"
  }
 },
 "nbformat": 4,
 "nbformat_minor": 4
}
